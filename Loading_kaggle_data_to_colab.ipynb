{
  "nbformat": 4,
  "nbformat_minor": 0,
  "metadata": {
    "colab": {
      "provenance": [],
      "authorship_tag": "ABX9TyOOY4ppKJoalkV5Q92O6wTB",
      "include_colab_link": true
    },
    "kernelspec": {
      "name": "python3",
      "display_name": "Python 3"
    },
    "language_info": {
      "name": "python"
    }
  },
  "cells": [
    {
      "cell_type": "markdown",
      "metadata": {
        "id": "view-in-github",
        "colab_type": "text"
      },
      "source": [
        "<a href=\"https://colab.research.google.com/github/BelideSaiTeja/loading-kaggle-data-to-colab/blob/main/Loading_kaggle_data_to_colab.ipynb\" target=\"_parent\"><img src=\"https://colab.research.google.com/assets/colab-badge.svg\" alt=\"Open In Colab\"/></a>"
      ]
    },
    {
      "cell_type": "markdown",
      "source": [
        "1. Install the Kaggle library"
      ],
      "metadata": {
        "id": "VH4El3uZlY-9"
      }
    },
    {
      "cell_type": "code",
      "execution_count": null,
      "metadata": {
        "id": "TFPGl_yedrfg"
      },
      "outputs": [],
      "source": [
        "! pip install -q kaggle"
      ]
    },
    {
      "cell_type": "markdown",
      "source": [
        "2. Make a directory named “.kaggle”"
      ],
      "metadata": {
        "id": "VyjMPovslaO0"
      }
    },
    {
      "cell_type": "markdown",
      "source": [
        "Download the kaggle API key (.json file). This can be done by going to kaggle account page and clicking 'Create new API token' under the API section."
      ],
      "metadata": {
        "id": "xFZGsKd9mfzE"
      }
    },
    {
      "cell_type": "code",
      "source": [
        "! mkdir ~/.kaggle"
      ],
      "metadata": {
        "colab": {
          "base_uri": "https://localhost:8080/"
        },
        "id": "-pIcm3Bcdu8h",
        "outputId": "3b0d67eb-8e2a-4dbb-f2ac-bc038dcdc334"
      },
      "execution_count": null,
      "outputs": [
        {
          "output_type": "stream",
          "name": "stdout",
          "text": [
            "mkdir: cannot create directory ‘/root/.kaggle’: File exists\n"
          ]
        }
      ]
    },
    {
      "cell_type": "markdown",
      "source": [
        "3. Copy the “kaggle.json” into this new directory"
      ],
      "metadata": {
        "id": "3PIFOXiCleGq"
      }
    },
    {
      "cell_type": "code",
      "source": [
        "! cp kaggle.json ~/.kaggle/"
      ],
      "metadata": {
        "id": "CPLxSULFfMnO"
      },
      "execution_count": null,
      "outputs": []
    },
    {
      "cell_type": "markdown",
      "source": [
        "4. Allocate the required permission for this file."
      ],
      "metadata": {
        "id": "-ieAs0-1liGk"
      }
    },
    {
      "cell_type": "code",
      "source": [
        "! chmod 600 ~/.kaggle/kaggle.json"
      ],
      "metadata": {
        "id": "nUFekO6LfMlg"
      },
      "execution_count": null,
      "outputs": []
    },
    {
      "cell_type": "markdown",
      "source": [
        "**Downloading Datasets:**\n",
        "\n",
        "These datasets are not part of any competition. You can download these datasets by:"
      ],
      "metadata": {
        "id": "q3lto_UMlk6y"
      }
    },
    {
      "cell_type": "code",
      "source": [
        "! kaggle datasets download meowmeowmeowmeowmeow/gtsrb-german-traffic-sign"
      ],
      "metadata": {
        "colab": {
          "base_uri": "https://localhost:8080/"
        },
        "id": "IZGFIXpXhOMH",
        "outputId": "78136a5f-d4ec-4df4-9675-a11877828309"
      },
      "execution_count": null,
      "outputs": [
        {
          "output_type": "stream",
          "name": "stdout",
          "text": [
            "Downloading gtsrb-german-traffic-sign.zip to /content\n",
            " 99% 606M/612M [00:07<00:00, 86.3MB/s]\n",
            "100% 612M/612M [00:07<00:00, 82.8MB/s]\n"
          ]
        }
      ]
    },
    {
      "cell_type": "markdown",
      "source": [
        "In case you get a dataset with a zip extension, you can simply use the unzip command of Linux to extract the data:\n",
        "\n"
      ],
      "metadata": {
        "id": "c9THJCRIlrkj"
      }
    },
    {
      "cell_type": "code",
      "source": [
        "! unzip gtsrb-german-traffic-sign.zip"
      ],
      "metadata": {
        "id": "5D1hiet3h4_l"
      },
      "execution_count": null,
      "outputs": []
    },
    {
      "cell_type": "markdown",
      "source": [
        "Downloading Competitions dataset:\n"
      ],
      "metadata": {
        "id": "IQhoBJqRl6mS"
      }
    },
    {
      "cell_type": "code",
      "source": [
        "! kaggle competitions download competitions/house-prices-advanced-regression-techniques"
      ],
      "metadata": {
        "id": "e5Qpb33Ol6Vk"
      },
      "execution_count": null,
      "outputs": []
    }
  ]
}